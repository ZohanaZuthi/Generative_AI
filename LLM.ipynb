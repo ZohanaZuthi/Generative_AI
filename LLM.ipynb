{
 "cells": [
  {
   "cell_type": "markdown",
   "metadata": {},
   "source": [
    "# LLM?\n",
    "LLM stands for Large Language Model. It is a type of artificial intelligence (AI) model designed to process and generate human-like text. \n",
    "Popular LLMs:\n",
    "GPT-4 (by OpenAI)\n",
    "Llama (by Meta)\n",
    "Claude (by Anthropic)\n",
    "Gemini (by Google DeepMind)"
   ]
  },
  {
   "cell_type": "markdown",
   "metadata": {},
   "source": [
    "# Example 1: Understanding Zero-Shot Learning in Real Life\n",
    "Imagine you are learning about animals.\n",
    "\n",
    "You have seen dogs, cats, and horses before.\n",
    "But you have never seen a zebra in real life.\n",
    "Someone describes a zebra as \"a horse-like animal with black and white stripes.\"\n",
    "Using your prior knowledge of horses and the description, you correctly identify a zebra without having seen it before.\n",
    "💡 This is Zero-Shot Learning! You generalize knowledge from known categories (horse, black & white stripes) to classify an unseen category (zebra)."
   ]
  },
  {
   "cell_type": "markdown",
   "metadata": {},
   "source": [
    "# 1️⃣ One-Shot Learning (OSL)\n",
    "Definition: The model learns from just one example and generalizes to unseen data.\n",
    "Analogy:\n",
    "Suppose you see a new type of fruit (e.g., dragon fruit) for the first time.\n",
    "Someone tells you its name and describes its features.\n",
    "Next time you see it, you recognize it immediately."
   ]
  },
  {
   "cell_type": "markdown",
   "metadata": {},
   "source": [
    "# 2️⃣ Few-Shot Learning (FSL)\n",
    "Definition: The model is trained on a few (e.g., 3-5) labeled examples before making predictions.\n",
    "Analogy:\n",
    "You hear a few sentences in a new language (e.g., French).\n",
    "Based on patterns in those few examples, you guess the meaning of a new sentence.\n"
   ]
  },
  {
   "cell_type": "markdown",
   "metadata": {},
   "source": []
  }
 ],
 "metadata": {
  "language_info": {
   "name": "python"
  }
 },
 "nbformat": 4,
 "nbformat_minor": 2
}
