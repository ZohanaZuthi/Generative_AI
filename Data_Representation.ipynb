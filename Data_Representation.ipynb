{
 "cells": [
  {
   "cell_type": "markdown",
   "metadata": {},
   "source": [
    "Feature extraction is the process of transforming raw data into a set of meaningful attributes or features that can be used for machine learning, data analysis, or pattern recognition. The goal is to extract the most relevant information from the raw data while reducing its complexity, making it easier for algorithms to analyze and process.\n",
    "\n",
    "In machine learning, raw data (such as images, text, or time-series data) may contain many variables or characteristics, but not all of them are useful for prediction or analysis. Feature extraction helps to identify and isolate the most important aspects of the data that contribute to the task at hand (e.g., classification, regression, clustering).\n"
   ]
  },
  {
   "cell_type": "markdown",
   "metadata": {},
   "source": [
    "# For text to numerical format"
   ]
  },
  {
   "cell_type": "markdown",
   "metadata": {},
   "source": [
    "We can apply two kinds of technique:\n",
    "1. One Hot Encoding\n",
    "2. Bag of Words\n",
    "\n",
    "One Hot encoding increases the complexity and dimension\n",
    "so it is wiser to apply bag of words . Especially in sentiments analysis as it is based on frequency"
   ]
  },
  {
   "cell_type": "code",
   "execution_count": null,
   "metadata": {
    "vscode": {
     "languageId": "plaintext"
    }
   },
   "outputs": [],
   "source": []
  }
 ],
 "metadata": {
  "language_info": {
   "name": "python"
  }
 },
 "nbformat": 4,
 "nbformat_minor": 2
}
